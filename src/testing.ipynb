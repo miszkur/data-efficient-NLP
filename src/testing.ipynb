{
 "cells": [
  {
   "cell_type": "code",
   "execution_count": 1,
   "metadata": {},
   "outputs": [],
   "source": [
    "from data_processing.ev_parser import create_dataloader\n",
    "\n"
   ]
  },
  {
   "cell_type": "code",
   "execution_count": 2,
   "metadata": {},
   "outputs": [],
   "source": [
    "dl = create_dataloader(8)"
   ]
  },
  {
   "cell_type": "code",
   "execution_count": 3,
   "metadata": {},
   "outputs": [
    {
     "data": {
      "text/plain": [
       "[\"Clean spot. Charged on the 13th. They are installing a DC fast charge but the software wasn't ready. Level 2 chargers work fine.\",\n",
       " 'Bring quarters, meter is $0.25/3 minutes.\\nCharger is around the back of the building. On state street',\n",
       " 'Convenient but expensive.',\n",
       " 'CHAdeMO',\n",
       " \"Half the bays occupied by gas-cars, apparently Grove doesn't enforce EV parking signs ... \",\n",
       " '.49cts per kw even when we are buying stuff inside.',\n",
       " 'Need to call and make reservation in advance by calling 888-758-4389.  Easy access but you need to call before you can use it with your Chargepoint acct.',\n",
       " 'Glad to see this station in the area ']"
      ]
     },
     "execution_count": 3,
     "metadata": {},
     "output_type": "execute_result"
    }
   ],
   "source": [
    "data = next(iter(dl))\n",
    "\n",
    "data['review_text']"
   ]
  }
 ],
 "metadata": {
  "interpreter": {
   "hash": "b95296a527a698334e08c33ad27f38adda0cc9d7ac330df83bf5727d27d5b2d0"
  },
  "kernelspec": {
   "display_name": "new_ml_stuff:pyenv",
   "language": "python",
   "name": "python3"
  },
  "language_info": {
   "codemirror_mode": {
    "name": "ipython",
    "version": 3
   },
   "file_extension": ".py",
   "mimetype": "text/x-python",
   "name": "python",
   "nbconvert_exporter": "python",
   "pygments_lexer": "ipython3",
   "version": "3.8.5"
  },
  "orig_nbformat": 4
 },
 "nbformat": 4,
 "nbformat_minor": 2
}
